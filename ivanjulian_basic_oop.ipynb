{
  "nbformat": 4,
  "nbformat_minor": 0,
  "metadata": {
    "colab": {
      "name": "ivanjulian_basic_oop.ipynb",
      "provenance": [],
      "collapsed_sections": []
    },
    "kernelspec": {
      "name": "python3",
      "display_name": "Python 3"
    },
    "language_info": {
      "name": "python"
    }
  },
  "cells": [
    {
      "cell_type": "markdown",
      "metadata": {
        "id": "DZgVMtVGktB3"
      },
      "source": [
        "**Study Case**"
      ]
    },
    {
      "cell_type": "markdown",
      "metadata": {
        "id": "pEj7dkO3k6dH"
      },
      "source": [
        "1.   Buat class **Hewan** yang memiliki *class attributes* **nama_latin** dan *instance  attributes* **nama** dan **umur**\n",
        "2.   Di *class* **Hewan**, memiliki *instance method* **bangun**, & *class method*  **change_nama_latin**\n",
        "3.   Buat *child class* **Kucing** yang memiliki *value class attributes* yang berbeda dengan *parent class*, menggunakan *class method* **change_nama_latin**\n",
        "4.   Di *child class*, *override method* **bangun**\n",
        "5.   Di *child class*, buat *method* **lari** yang memiliki  parameter **kecepatan**. Jika *value* dari parameter kecepatan  lebih dari 10, maka *print* **cepat sekali** selain itu print **lambat**\n",
        "\n"
      ]
    },
    {
      "cell_type": "markdown",
      "metadata": {
        "id": "RmopWtxGlMPw"
      },
      "source": [
        "**Jawab**"
      ]
    },
    {
      "cell_type": "code",
      "metadata": {
        "id": "173ZkmKWkq1B"
      },
      "source": [
        "# 1. Buat class hewan\n",
        "class Hewan:\n",
        "\n",
        "  #class attributes\n",
        "  nama_latin = 'nama_latin_parent'\n",
        "  \n",
        "  #constructor\n",
        "  def __init__(self, nama, umur):\n",
        "    #instance attributes\n",
        "    self.nama = nama\n",
        "    self.umur = umur\n",
        "\n",
        "  # 2. instance method bangun dan class method change_nama_latin\n",
        "  #instance method\n",
        "  def bangun(self):\n",
        "    print(f'''\n",
        "    deskripsi hewan:\n",
        "    nama: {self.nama}\n",
        "    umur: {self.umur}\n",
        "    ''')\n",
        "\n",
        "  #class method\n",
        "  @classmethod\n",
        "  def change_nama_latin(cls, nama_latin):\n",
        "    cls.nama_latin = nama_latin"
      ],
      "execution_count": 21,
      "outputs": []
    },
    {
      "cell_type": "code",
      "metadata": {
        "id": "G-kQXVkami_w"
      },
      "source": [
        "# 3. Buat child class kucing\n",
        "class Kucing(Hewan):\n",
        "  \n",
        "  nama_latin = 'nama_latin_child'\n",
        "\n",
        "  #constructor\n",
        "  def __init__(self, nama, umur, kecepatan):\n",
        "    Hewan.__init__(self, nama, umur)\n",
        "    self.kecepatan = kecepatan\n",
        "    #value class atributes yang berbeda dengan parent, menggunakan classmethod \n",
        "    nama_latin = Hewan.change_nama_latin('nama_latin_child2')\n",
        "\n",
        "  # 4. override methode\n",
        "  #override method bangun\n",
        "  def bangun(self):\n",
        "    print(f'''\n",
        "    deskripsi hewan:\n",
        "    nama: {self.nama}\n",
        "    umur: {self.umur}\n",
        "    kecepatan : {self.kecepatan}\n",
        "    ''')\n",
        "\n",
        "  # 5. method lari conditional\n",
        "  #method lari\n",
        "  def lari(self):\n",
        "    if(self.kecepatan > 10):\n",
        "      print('cepat sekali')\n",
        "    else:\n",
        "      print('lambat')"
      ],
      "execution_count": 37,
      "outputs": []
    },
    {
      "cell_type": "code",
      "metadata": {
        "colab": {
          "base_uri": "https://localhost:8080/"
        },
        "id": "bx3KKsfWtDlV",
        "outputId": "7f46f2ce-549e-444d-ae5a-a8bf06640bdb"
      },
      "source": [
        "object_kucing = Kucing('anggora',4,9)\n",
        "\n",
        "object_kucing.lari()"
      ],
      "execution_count": 40,
      "outputs": [
        {
          "output_type": "stream",
          "name": "stdout",
          "text": [
            "lambat\n"
          ]
        }
      ]
    }
  ]
}